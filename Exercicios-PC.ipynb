{
 "cells": [
  {
   "cell_type": "markdown",
   "metadata": {},
   "source": [
    "Crie um programa que crie um arquivo chamado \"texto.txt\" e escreva nele o\n",
    "seguinte texto: \"Olá, mundo!\""
   ]
  },
  {
   "cell_type": "code",
   "execution_count": 73,
   "metadata": {},
   "outputs": [],
   "source": [
    "with open(\"texto.txt\", \"w\") as file:\n",
    "    file.write(\"Olá, mundo!\")\n"
   ]
  },
  {
   "cell_type": "markdown",
   "metadata": {},
   "source": [
    "Crie um programa que leia o conteúdo do arquivo \"texto.txt\" criado no\n",
    "exercício anterior e o exiba no console."
   ]
  },
  {
   "cell_type": "code",
   "execution_count": 26,
   "metadata": {},
   "outputs": [
    {
     "data": {
      "text/plain": [
       "'Olá, mundo!'"
      ]
     },
     "execution_count": 26,
     "metadata": {},
     "output_type": "execute_result"
    }
   ],
   "source": [
    "with open(\"texto.txt\", \"r\") as file:\n",
    "    arquivo = file.read()\n",
    "arquivo"
   ]
  },
  {
   "cell_type": "markdown",
   "metadata": {},
   "source": [
    "Crie um programa que conte e exiba o número de linhas no arquivo\n",
    "\"texto.txt\"."
   ]
  },
  {
   "cell_type": "code",
   "execution_count": 29,
   "metadata": {},
   "outputs": [
    {
     "name": "stdout",
     "output_type": "stream",
     "text": [
      "O número de linhas no arquivo é: 1\n"
     ]
    }
   ],
   "source": [
    "with open(\"texto.txt\", \"r\") as file:\n",
    "    conta = 0\n",
    "    for linha in file:\n",
    "        conta += 1\n",
    "\n",
    "print(\"O número de linhas no arquivo é:\", conta)"
   ]
  },
  {
   "cell_type": "markdown",
   "metadata": {},
   "source": [
    "Crie um programa que copie o conteúdo do arquivo \"texto.txt\" para um novo\n",
    "arquivo chamado \"copia.txt\"."
   ]
  },
  {
   "cell_type": "code",
   "execution_count": 28,
   "metadata": {},
   "outputs": [
    {
     "data": {
      "text/plain": [
       "'Olá, mundo!'"
      ]
     },
     "execution_count": 28,
     "metadata": {},
     "output_type": "execute_result"
    }
   ],
   "source": [
    "with open(\"texto.txt\", \"r\") as source_file:\n",
    "    arquivo = source_file.read()\n",
    "with open(\"cópia.txt\", \"w\") as destination_file:\n",
    "    destination_file.write(arquivo)\n",
    "    novo = arquivo\n",
    "novo"
   ]
  },
  {
   "cell_type": "markdown",
   "metadata": {},
   "source": [
    "Crie um programa que leia o conteúdo dos arquivos \"texto.txt\" e\n",
    "\"copia.txt\", e escreva o conteúdo combinado em um terceiro arquivo\n",
    "chamado \"combinado.txt\"."
   ]
  },
  {
   "cell_type": "code",
   "execution_count": 56,
   "metadata": {},
   "outputs": [
    {
     "data": {
      "text/plain": [
       "'Olá, mundo!  Olá, mundo!'"
      ]
     },
     "execution_count": 56,
     "metadata": {},
     "output_type": "execute_result"
    }
   ],
   "source": [
    "with open(\"texto.txt\", \"r\") as file1:\n",
    "    arquivo1 = file1.read()\n",
    "with open(\"cópia.txt\", \"r\") as file2:\n",
    "    arquivo2 = file2.read()\n",
    "with open(\"combinado.txt\", \"w\") as destination_file:\n",
    "    destination_file.write(arquivo1)\n",
    "    destination_file.write(\"  \")\n",
    "    destination_file.write(arquivo2)\n",
    "\n",
    "novo = arquivo2\n",
    "novos = arquivo1\n",
    "\n",
    "with open(\"combinado.txt\", \"r\") as file:\n",
    "    arquivo = file.read()\n",
    "arquivo\n"
   ]
  },
  {
   "cell_type": "markdown",
   "metadata": {},
   "source": [
    "Crie um programa que conte e exiba o número de palavras no arquivo\n",
    "\"texto.txt\"."
   ]
  },
  {
   "cell_type": "code",
   "execution_count": 57,
   "metadata": {},
   "outputs": [
    {
     "name": "stdout",
     "output_type": "stream",
     "text": [
      " numero palavras : 2\n"
     ]
    }
   ],
   "source": [
    "\n",
    "with open(\"texto.txt\", \"r\") as file:\n",
    "    conteudo = file.read()\n",
    "    palavras = conteudo.split()\n",
    "    numero_palavras = len(palavras)\n",
    "\n",
    "print(f\" numero palavras : {numero_palavras}\")"
   ]
  },
  {
   "cell_type": "markdown",
   "metadata": {},
   "source": [
    "Crie um programa que leia o conteúdo do arquivo \"texto.txt\" e substitua\n",
    "todas as ocorrências da palavra \"mundo\" por \"Python\". O novo conteúdo deve ser\n",
    "escrito em um novo arquivo chamado \"modificado.txt\"."
   ]
  },
  {
   "cell_type": "code",
   "execution_count": 66,
   "metadata": {},
   "outputs": [
    {
     "data": {
      "text/plain": [
       "'Olá, Python!'"
      ]
     },
     "execution_count": 66,
     "metadata": {},
     "output_type": "execute_result"
    }
   ],
   "source": [
    "\n",
    "with open(\"texto.txt\", \"r\") as file:\n",
    "    conteudo = file.read()\n",
    "    conteudo = conteudo.replace(\"mundo\", \"Python\")\n",
    "\n",
    "with open(\"modificado.txt\", \"w\") as file:\n",
    "    file.write(conteudo)\n",
    "\n",
    "with open(\"modificado.txt\", \"r\") as file:\n",
    "    arquivo = file.read()\n",
    "arquivo"
   ]
  },
  {
   "cell_type": "markdown",
   "metadata": {},
   "source": [
    "Crie um programa que adicione a frase \"Isso é incrível!\" ao final do arquivo\n",
    "\"texto.txt\"."
   ]
  },
  {
   "cell_type": "code",
   "execution_count": 72,
   "metadata": {},
   "outputs": [],
   "source": [
    "with open(\"texto.txt\", \"w\") as file:\n",
    "    file.write(\"\\nIsso é incrível!\")"
   ]
  },
  {
   "cell_type": "markdown",
   "metadata": {},
   "source": [
    "Crie um programa que leia o conteúdo do arquivo \"texto.txt\" e conte quantas\n",
    "letras (excluindo espaços) estão presentes no texto."
   ]
  },
  {
   "cell_type": "code",
   "execution_count": 77,
   "metadata": {},
   "outputs": [
    {
     "name": "stdout",
     "output_type": "stream",
     "text": [
      "8\n"
     ]
    }
   ],
   "source": [
    "with open(\"texto.txt\", \"r\") as file:\n",
    "    conteudo = file.read()\n",
    "    letra = 0 \n",
    "    for let in conteudo:\n",
    "        if let.isalpha():\n",
    "            letra += 1\n",
    "\n",
    "print(letra)"
   ]
  },
  {
   "cell_type": "markdown",
   "metadata": {},
   "source": [
    "Crie um programa que leia o conteúdo do arquivo \"numeros.txt\" (contendo\n",
    "números inteiros separados por vírgula), some esses números e exiba o\n",
    "resultado."
   ]
  },
  {
   "cell_type": "code",
   "execution_count": 94,
   "metadata": {},
   "outputs": [
    {
     "name": "stdout",
     "output_type": "stream",
     "text": [
      "A soma dos números no arquivo é: 4950\n"
     ]
    }
   ],
   "source": [
    "with open(\"numeros.txt\", \"r\", encoding='utf-8-sig') as arquivo:\n",
    "    conteudo = arquivo.read()\n",
    "numeros = [int(num.strip()) for num in conteudo.replace('\\n', ',').split(\",\") if num.strip()]\n",
    "soma = sum(numeros)\n",
    "print(f\"A soma dos números no arquivo é: {soma}\")\n",
    "\n",
    "\n"
   ]
  },
  {
   "cell_type": "markdown",
   "metadata": {},
   "source": [
    "Faça um programa que leia um arquivo texto contendo uma lista de endereços IP\n",
    "e gere um outro arquivo, contendo um relatório dos endereços IP válidos e\n",
    "inválidos.\n",
    "O arquivo de entrada possui o seguinte formato:"
   ]
  },
  {
   "cell_type": "code",
   "execution_count": 106,
   "metadata": {},
   "outputs": [
    {
     "name": "stdout",
     "output_type": "stream",
     "text": [
      "Relatório gerado com sucesso em 'ipss.txt'.\n",
      "Total de endereços válidos: 4\n",
      "Total de endereços inválidos: 4\n",
      "\n",
      "Endereços IP válidos:\n",
      "192.168.1.1\n",
      "8.35.67.74\n",
      "1.2.3.4\n",
      "9.8.234.5\n",
      "\n",
      "Endereços IP inválidos:\n",
      "ï»¿200.135.80.9\n",
      "257.32.4.5\n",
      "85.345.1.2\n",
      "192.168.0.256\n",
      "\n"
     ]
    }
   ],
   "source": [
    "import re\n",
    "\n",
    "def validar_ip(ip):\n",
    "    \n",
    "    padrao_ip = r'^(\\d{1,3}\\.){3}\\d{1,3}$'\n",
    "    if re.match(padrao_ip, ip):\n",
    "        numeros = ip.split('.')\n",
    "        for numero in numeros:\n",
    "            if not (0 <= int(numero) <= 255):\n",
    "                return False\n",
    "        return True\n",
    "    return False\n",
    "\n",
    "def gerar_relatorio_ips(arquivo_entrada, arquivo_saida):\n",
    "    \n",
    "    \n",
    "    with open(arquivo_entrada, 'r') as entrada, open(arquivo_saida, 'w') as saida:\n",
    "        ips_validos = []\n",
    "        ips_invalidos = []\n",
    "\n",
    "        for linha in entrada:\n",
    "            ip = linha.strip()\n",
    "            if validar_ip(ip):\n",
    "                ips_validos.append(ip)\n",
    "            else:\n",
    "                ips_invalidos.append(ip)\n",
    "\n",
    "        saida.write(\"Endereços IP válidos:\\n\")\n",
    "        for ip in ips_validos:\n",
    "            saida.write(ip + '\\n')\n",
    "\n",
    "        saida.write(\"\\nEndereços IP inválidos:\\n\")\n",
    "        for ip in ips_invalidos:\n",
    "             saida.write(ip + '\\n')\n",
    "\n",
    "        print(f\"Relatório gerado com sucesso em '{arquivo_saida}'.\")\n",
    "        print(f\"Total de endereços válidos: {len(ips_validos)}\")\n",
    "        print(f\"Total de endereços inválidos: {len(ips_invalidos)}\")\n",
    "\n",
    "    \n",
    "\n",
    "# Exemplo de uso\n",
    "arquivo_entrada = \"ip.txt\"  # Substitua pelo nome do seu arquivo de entrada\n",
    "arquivo_saida = \"ipss.txt\"   # Substitua pelo nome do seu arquivo de saída\n",
    "\n",
    "gerar_relatorio_ips(arquivo_entrada, arquivo_saida)\n",
    "with open(\"ipss.txt\", \"r\") as file:\n",
    "    arquivo = file.read()\n",
    "print(f\"\\n{arquivo}\")\n"
   ]
  },
  {
   "cell_type": "markdown",
   "metadata": {},
   "source": [
    "A ACME Inc., uma empresa de 500 funcionários, está tendo problemas de espaço\n",
    "em disco no seu servidor de arquivos. Para tentar resolver este problema, o\n",
    "Administrador de Rede precisa saber qual o espaço ocupado pelos usuários, e\n",
    "identificar os usuários com maior espaço ocupado. Através de um programa,\n",
    "baixado da Internet, ele conseguiu gerar o seguinte arquivo, chamado\n",
    "\"usuarios.txt\":\n",
    "alexandre 456123789\n",
    "anderson 1245698456\n",
    "antonio 123456456\n",
    "carlos 91257581\n",
    "cesar 987458\n",
    "rosemary 789456125\n",
    "No arquivo acima, o nome do usuário possui 15 caracteres. A partir dele, você deve\n",
    "criar um programa que gere um relatório, chamado \"relatório.txt\", no seguinte\n",
    "formato:"
   ]
  },
  {
   "cell_type": "code",
   "execution_count": 108,
   "metadata": {},
   "outputs": [
    {
     "name": "stdout",
     "output_type": "stream",
     "text": [
      "\n",
      "------------------------------------------------------------------------\n",
      "Nr. Usuário         Espaço utilizado    % do uso\n",
      "1   ï»¿alexandre                 434.99 MB      16.85%\n",
      "2   anderson                    1187.99 MB      46.02%\n",
      "3   antonio                      117.74 MB       4.56%\n",
      "4   carlos                        87.03 MB       3.37%\n",
      "5   cesar                          0.94 MB       0.04%\n",
      "6   rosemary                     752.88 MB      29.16%\n",
      "------------------------------------------------------------------------\n",
      "Espaço total ocupado: 2581.58 MB\n",
      "Espaço médio ocupado: 430.26 MB\n",
      "\n"
     ]
    }
   ],
   "source": [
    "def bytes_para_megabytes(bytes):\n",
    "    \"\"\"Converte bytes para megabytes.\"\"\"\n",
    "    return bytes / (1024 * 1024)\n",
    "\n",
    "def percentual_uso(bytes, total):\n",
    "    \"\"\"Calcula o percentual de uso do espaço em disco.\"\"\"\n",
    "    if total == 0:\n",
    "        return 0\n",
    "    return (bytes / total) * 100\n",
    "\n",
    "def gerar_relatorio(arquivo_entrada, arquivo_saida):\n",
    "    \"\"\"Gera um relatório de uso de espaço em disco por usuário.\"\"\"\n",
    "    usuarios = []\n",
    "\n",
    "    # Lê o arquivo de entrada e armazena os dados em memória\n",
    "    with open(arquivo_entrada, 'r') as file:\n",
    "        for linha in file:\n",
    "            partes = linha.split()\n",
    "            nome = partes[0]\n",
    "            espaco = int(partes[1])\n",
    "            usuarios.append((nome, espaco))\n",
    "\n",
    "    # Calcula o espaço total\n",
    "    total_espaco = sum(espaco for _, espaco in usuarios)\n",
    "\n",
    "    # Gera o relatório\n",
    "    with open(arquivo_saida, 'w') as file:\n",
    "        file.write(\"------------------------------------------------------------------------\\n\")\n",
    "        file.write(\"Nr. Usuário         Espaço utilizado    % do uso\\n\")\n",
    "\n",
    "        for i, (nome, espaco) in enumerate(usuarios, start=1):\n",
    "            espaco_mb = bytes_para_megabytes(espaco)\n",
    "            porcentagem = percentual_uso(espaco, total_espaco)\n",
    "            file.write(f\"{i:<3} {nome:<17} {espaco_mb:>17.2f} MB {porcentagem:>10.2f}%\\n\")\n",
    "\n",
    "        file.write(\"------------------------------------------------------------------------\\n\")\n",
    "        file.write(f\"Espaço total ocupado: {bytes_para_megabytes(total_espaco):.2f} MB\\n\")\n",
    "        file.write(f\"Espaço médio ocupado: {bytes_para_megabytes(total_espaco / len(usuarios)):.2f} MB\\n\")\n",
    "\n",
    "# Exemplo de uso\n",
    "arquivo_entrada = \"usuarios.txt\"  # Nome do arquivo de entrada\n",
    "arquivo_saida = \"relatorio.txt\"     # Nome do arquivo de saída\n",
    "\n",
    "gerar_relatorio(arquivo_entrada, arquivo_saida)\n",
    "with open(\"relatorio.txt\", \"r\") as file:\n",
    "    arquivo = file.read()\n",
    "print(f\"\\n{arquivo}\")\n"
   ]
  },
  {
   "cell_type": "markdown",
   "metadata": {},
   "source": [
    "Crie um programa que leia um arquivo-texto e gere um arquivo de saída\n",
    "paginado. Cada linha não deve conter mais de 76 caracteres. Cada página terá no\n",
    "máximo 60 linhas. Adicione na última linha de cada página o número da página\n",
    "atual e o nome do arquivo original."
   ]
  },
  {
   "cell_type": "code",
   "execution_count": 113,
   "metadata": {},
   "outputs": [
    {
     "name": "stdout",
     "output_type": "stream",
     "text": [
      "ï»¿\n",
      "\n",
      "Página 1 - entrada.txt\n",
      "\n",
      "ï»¿\n",
      "\n",
      "Página 1 - entrada.txt\n",
      "\n",
      "ï»¿\n",
      "\n",
      "Página 1 - entrada.txt\n",
      "\n",
      "ï»¿\n",
      "\n",
      "Página 1 - entrada.txt\n",
      "\n",
      "\n"
     ]
    }
   ],
   "source": [
    "def paginar_arquivo(arquivo_entrada, arquivo_saida):\n",
    "    \"\"\"Lê um arquivo de texto e gera um arquivo paginado.\"\"\"\n",
    "    \n",
    "    # Lê o conteúdo do arquivo de entrada\n",
    "    with open(arquivo_entrada, 'r') as file:\n",
    "        linhas = file.readlines()\n",
    "\n",
    "    # Variáveis para controlar a paginação\n",
    "    pagina = []\n",
    "    num_linhas_na_pagina = 0\n",
    "    num_pagina = 1\n",
    "    \n",
    "    # Processa cada linha\n",
    "    for linha in linhas:\n",
    "        # Remove espaços em branco e garante que a linha não ultrapasse 76 caracteres\n",
    "        linha = linha.strip()\n",
    "        \n",
    "        while len(linha) > 76:\n",
    "            # Se a linha for maior que 76, quebra em partes\n",
    "            parte = linha[:76]\n",
    "            pagina.append(parte)\n",
    "            linha = linha[76:]  # Remove a parte já adicionada\n",
    "            num_linhas_na_pagina += 1\n",
    "            \n",
    "            # Se a página atingir 60 linhas, escreve no arquivo\n",
    "            if num_linhas_na_pagina == 60:\n",
    "                pagina.append(f\"\\nPágina {num_pagina} - {arquivo_entrada}\\n\")\n",
    "                with open(arquivo_saida, 'a') as output_file:\n",
    "                    output_file.write(\"\\n\".join(pagina) + \"\\n\")\n",
    "                # Reinicia o controle da página\n",
    "                pagina = []\n",
    "                num_linhas_na_pagina = 0\n",
    "                num_pagina += 1\n",
    "        \n",
    "        # Adiciona a linha final (ou parte) se ainda não atingiu o limite\n",
    "        if linha:\n",
    "            pagina.append(linha)\n",
    "            num_linhas_na_pagina += 1\n",
    "        \n",
    "        # Se atingir 60 linhas, escreve no arquivo\n",
    "        if num_linhas_na_pagina == 60:\n",
    "            pagina.append(f\"\\nPágina {num_pagina} - {arquivo_entrada}\\n\")\n",
    "            with open(arquivo_saida, 'a') as output_file:\n",
    "                output_file.write(\"\\n\".join(pagina) + \"\\n\")\n",
    "            # Reinicia o controle da página\n",
    "            pagina = []\n",
    "            num_linhas_na_pagina = 0\n",
    "            num_pagina += 1\n",
    "\n",
    "    # Escreve qualquer conteúdo restante na última página\n",
    "    if pagina:\n",
    "        pagina.append(f\"\\nPágina {num_pagina} - {arquivo_entrada}\\n\")\n",
    "        with open(arquivo_saida, 'a') as output_file:\n",
    "            output_file.write(\"\\n\".join(pagina) + \"\\n\")\n",
    "\n",
    "# Exemplo de uso\n",
    "arquivo_entrada = \"entrada.txt\"  # Nome do arquivo de entrada\n",
    "arquivo_saida = \"saida_paginada.txt\"  # Nome do arquivo de saída\n",
    "\n",
    "paginar_arquivo(arquivo_entrada, arquivo_saida)\n",
    "with open(\"saida_paginada.txt\", \"r\") as file:\n",
    "    arquivo = file.read()\n",
    "print(f\"{arquivo}\")"
   ]
  },
  {
   "cell_type": "markdown",
   "metadata": {},
   "source": [
    "Crie um programa que leia um arquivo-texto e elimine os espaços repetidos entre\n",
    "as palavras e o fim das linhas. O arquivo de saída também não deve ter mais de\n",
    "uma linha em branco repetida."
   ]
  },
  {
   "cell_type": "code",
   "execution_count": 114,
   "metadata": {},
   "outputs": [],
   "source": [
    "def processar_arquivo(arquivo_entrada, arquivo_saida):\n",
    "    \"\"\"Lê um arquivo de texto e elimina espaços repetidos e linhas em branco consecutivas.\"\"\"\n",
    "    \n",
    "    with open(arquivo_entrada, 'r') as entrada:\n",
    "        # Lê todas as linhas do arquivo de entrada\n",
    "        linhas = entrada.readlines()\n",
    "\n",
    "    linhas_processadas = []\n",
    "\n",
    "    for linha in linhas:\n",
    "        # Remove espaços em branco no início e no final da linha\n",
    "        linha = linha.strip()\n",
    "        # Substitui múltiplos espaços por um único espaço\n",
    "        linha = ' '.join(linha.split())\n",
    "\n",
    "        # Adiciona a linha processada se não for uma linha em branco\n",
    "        if linha:  # se não for uma linha em branco\n",
    "            linhas_processadas.append(linha)\n",
    "\n",
    "    # Escreve as linhas processadas no arquivo de saída\n",
    "    with open(arquivo_saida, 'w') as saida:\n",
    "        for linha in linhas_processadas:\n",
    "            saida.write(linha + '\\n')\n",
    "\n",
    "# Exemplo de uso\n",
    "arquivo_entrada = \"entrada.txt\"  # Nome do arquivo de entrada\n",
    "arquivo_saida = \"saida_processada.txt\"  # Nome do arquivo de saída\n",
    "\n",
    "processar_arquivo(arquivo_entrada, arquivo_saida)\n"
   ]
  }
 ],
 "metadata": {
  "kernelspec": {
   "display_name": "Python 3",
   "language": "python",
   "name": "python3"
  },
  "language_info": {
   "codemirror_mode": {
    "name": "ipython",
    "version": 3
   },
   "file_extension": ".py",
   "mimetype": "text/x-python",
   "name": "python",
   "nbconvert_exporter": "python",
   "pygments_lexer": "ipython3",
   "version": "3.12.4"
  }
 },
 "nbformat": 4,
 "nbformat_minor": 2
}
